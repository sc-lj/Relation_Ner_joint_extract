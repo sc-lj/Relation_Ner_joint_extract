{
 "metadata": {
  "language_info": {
   "codemirror_mode": {
    "name": "ipython",
    "version": 3
   },
   "file_extension": ".py",
   "mimetype": "text/x-python",
   "name": "python",
   "nbconvert_exporter": "python",
   "pygments_lexer": "ipython3",
   "version": "3.7.0"
  },
  "orig_nbformat": 2,
  "kernelspec": {
   "name": "python3",
   "display_name": "Python 3.7.0 64-bit ('py37': conda)",
   "metadata": {
    "interpreter": {
     "hash": "489f1a2521a67519aca453d2f50aac1fd013e661a643e1359e0ea21b65e14147"
    }
   }
  }
 },
 "nbformat": 4,
 "nbformat_minor": 2,
 "cells": [
  {
   "cell_type": "code",
   "execution_count": 7,
   "metadata": {
    "tags": []
   },
   "outputs": [],
   "source": [
    "from transformers import RobertaTokenizer,BertTokenizer\n",
    "tokenizer = BertTokenizer.from_pretrained('./chinese_roberta_base')\n",
    "from transformers import *\n",
    "model = BertModel.from_pretrained('./chinese_roberta_base')\n"
   ]
  },
  {
   "cell_type": "code",
   "execution_count": 4,
   "metadata": {},
   "outputs": [],
   "source": [
    "import numpy as np\n",
    "import torch\n",
    "\n",
    "\n",
    "aa = np.array([[0.0349,  0.0670, -0.0612, 0.0280, -0.0222,  0.0422],\n",
    "         [-1.6719,  0.1242, -0.6488, 0.3313, -1.3965, -0.0682],\n",
    "         [-1.3419,  0.4485, -0.6589, 0.1420, -0.3260, -0.4795]])\n",
    "bb = np.array([[-0.0658, -0.1490, -0.1684, 0.7188,  0.3129, -0.1116],\n",
    "         [-0.2098, -0.2980,  0.1126, 0.9666, -0.0178,  0.1222],\n",
    "         [ 0.1179, -0.4622, -0.2112, 1.1151,  0.1846,  0.4283]])\n",
    "cc = np.where(aa>0)     #合并a,b两个tensor，如果a中元素大于0\n",
    "dd = np.where(bb>0)\n"
   ]
  },
  {
   "cell_type": "code",
   "execution_count": 3,
   "metadata": {},
   "outputs": [
    {
     "output_type": "execute_result",
     "data": {
      "text/plain": [
       "(array([0, 0, 0, 0, 1, 1, 2, 2]), array([0, 1, 3, 5, 1, 3, 1, 3]))"
      ]
     },
     "metadata": {},
     "execution_count": 3
    }
   ],
   "source": [
    "import torch\n",
    "sub_heads = torch.tensor([2,3,2,5,2,7,6,7,8,9]).reshape(10,1,1)\n",
    "sub_tails = torch.tensor([2,3,2,5,2,7,6,7,8,9]).reshape(10,1,1)\n",
    "sub_head_mapping = torch.zeros(10,1,9)\n",
    "sub_tail_mapping = torch.zeros(10,1,9)\n",
    "sub_head_mapping.scatter_(-1,sub_heads,1)\n",
    "sub_tail_mapping.scatter_(-1,sub_tails,1)"
   ]
  },
  {
   "cell_type": "code",
   "execution_count": 5,
   "metadata": {},
   "outputs": [
    {
     "output_type": "execute_result",
     "data": {
      "text/plain": [
       "(array([0, 0, 1, 1, 1, 2, 2, 2, 2]), array([3, 4, 2, 3, 5, 0, 3, 4, 5]))"
      ]
     },
     "metadata": {},
     "execution_count": 5
    }
   ],
   "source": [
    "dd"
   ]
  }
 ]
}