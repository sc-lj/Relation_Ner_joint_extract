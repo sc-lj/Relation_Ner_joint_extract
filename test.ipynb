{
 "metadata": {
  "language_info": {
   "codemirror_mode": {
    "name": "ipython",
    "version": 3
   },
   "file_extension": ".py",
   "mimetype": "text/x-python",
   "name": "python",
   "nbconvert_exporter": "python",
   "pygments_lexer": "ipython3",
   "version": "3.7.0"
  },
  "orig_nbformat": 2,
  "kernelspec": {
   "name": "python3",
   "display_name": "Python 3.7.0 64-bit ('py37': conda)",
   "metadata": {
    "interpreter": {
     "hash": "489f1a2521a67519aca453d2f50aac1fd013e661a643e1359e0ea21b65e14147"
    }
   }
  }
 },
 "nbformat": 4,
 "nbformat_minor": 2,
 "cells": [
  {
   "cell_type": "code",
   "execution_count": 7,
   "metadata": {
    "tags": []
   },
   "outputs": [],
   "source": [
    "from transformers import RobertaTokenizer,BertTokenizer\n",
    "tokenizer = BertTokenizer.from_pretrained('./chinese_roberta_base')\n",
    "from transformers import *\n",
    "model = BertModel.from_pretrained('./chinese_roberta_base')\n"
   ]
  },
  {
   "cell_type": "code",
   "execution_count": 4,
   "metadata": {},
   "outputs": [
    {
     "output_type": "execute_result",
     "data": {
      "text/plain": [
       "'0428140450'"
      ]
     },
     "metadata": {},
     "execution_count": 4
    }
   ],
   "source": [
    "import time\n",
    "time.strftime(\"%m%d%H%M%S\",time.localtime(time.time()))"
   ]
  }
 ]
}